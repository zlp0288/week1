{
 "metadata": {
  "language_info": {
   "codemirror_mode": {
    "name": "ipython",
    "version": 3
   },
   "file_extension": ".py",
   "mimetype": "text/x-python",
   "name": "python",
   "nbconvert_exporter": "python",
   "pygments_lexer": "ipython3",
   "version": "3.7.4-final"
  },
  "orig_nbformat": 2,
  "kernelspec": {
   "name": "python_defaultSpec_1598514666615",
   "display_name": "Python 3.7.4 64-bit"
  }
 },
 "nbformat": 4,
 "nbformat_minor": 2,
 "cells": [
  {
   "cell_type": "code",
   "execution_count": 1,
   "metadata": {},
   "outputs": [],
   "source": [
    "#牛顿迭代法求平方根\n",
    "def sqrt1(x):\n",
    "    y = x\n",
    "    while abs(y * y - x) > 1e-6:\n",
    "        y = (y + x / y) / 2\n",
    "    return (\"%.10f\"%(y))"
   ]
  },
  {
   "cell_type": "code",
   "execution_count": 2,
   "metadata": {
    "tags": []
   },
   "outputs": [
    {
     "output_type": "stream",
     "name": "stdout",
     "text": "Wall time: 0 ns\n"
    },
    {
     "output_type": "execute_result",
     "data": {
      "text/plain": "'3.1622776652'"
     },
     "metadata": {},
     "execution_count": 2
    }
   ],
   "source": [
    "%%time\n",
    "sqrt1(10)"
   ]
  },
  {
   "cell_type": "code",
   "execution_count": 3,
   "metadata": {},
   "outputs": [],
   "source": [
    "#使用二分法\n",
    "def sqrt2(x):\n",
    "    if x > 1:\n",
    "        a = 1.0\n",
    "        b = x\n",
    "    else:\n",
    "        a = x\n",
    "        b = 1.0\n",
    "    y = (a + x)/2\n",
    "    while abs(y * y - x) > 1e-6:\n",
    "        if y * y > x:\n",
    "            b = y\n",
    "            y = (y + a) /2\n",
    "        else:\n",
    "            a = y\n",
    "            y = (y + b) /2\n",
    "    return (\"%.10f\"%(y)) "
   ]
  },
  {
   "cell_type": "code",
   "execution_count": 4,
   "metadata": {
    "tags": []
   },
   "outputs": [
    {
     "output_type": "stream",
     "name": "stdout",
     "text": "Wall time: 0 ns\n"
    },
    {
     "output_type": "execute_result",
     "data": {
      "text/plain": "'3.1622778177'"
     },
     "metadata": {},
     "execution_count": 4
    }
   ],
   "source": [
    "%time\n",
    "sqrt2(10)"
   ]
  },
  {
   "cell_type": "code",
   "execution_count": 5,
   "metadata": {},
   "outputs": [
    {
     "output_type": "execute_result",
     "data": {
      "text/plain": "3.1622776601683795"
     },
     "metadata": {},
     "execution_count": 5
    }
   ],
   "source": [
    "10**0.5"
   ]
  },
  {
   "cell_type": "code",
   "execution_count": null,
   "metadata": {},
   "outputs": [],
   "source": []
  }
 ]
}